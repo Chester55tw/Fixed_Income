{
  "nbformat": 4,
  "nbformat_minor": 0,
  "metadata": {
    "colab": {
      "provenance": []
    },
    "kernelspec": {
      "name": "python3",
      "display_name": "Python 3"
    },
    "language_info": {
      "name": "python"
    }
  },
  "cells": [
    {
      "cell_type": "code",
      "execution_count": 4,
      "metadata": {
        "id": "0bohHBFhpq9u"
      },
      "outputs": [],
      "source": [
        "import pandas as pd\n",
        "\n",
        "# Load data from Excel file\n",
        "df = pd.read_excel('Homework_5_Data.xlsx')\n",
        "import numpy as np\n"
      ]
    },
    {
      "cell_type": "code",
      "source": [
        "# Set initial parameters\n",
        "alpha_x = 0.00411\n",
        "beta_x = 0.03832\n",
        "sigma_x = 0.00978\n",
        "alpha_y = 0.00203\n",
        "beta_y = 0.44871\n",
        "sigma_y = 0.01857\n",
        "\n",
        "# Set spot rates for week 1\n",
        "r_0_25 = df.loc[0, 't=.25'] / 100\n",
        "r_10 = df.loc[0, 't=10'] / 100\n",
        "\n",
        "# Solve for X1 and Y1\n",
        "A_x_025 = (1 - beta_x * 0.25) * alpha_x / sigma_x**2 * (1 - np.exp(-beta_x * 0.25)) + np.exp(-beta_x * 0.25)\n",
        "A_y_025 = (1 - beta_y * 0.25) * alpha_y / sigma_y**2 * (1 - np.exp(-beta_y * 0.25)) + np.exp(-beta_y * 0.25)\n",
        "B_x_025 = (1 - np.exp(-beta_x * 0.25)) / beta_x\n",
        "B_y_025 = (1 - np.exp(-beta_y * 0.25)) / beta_y\n",
        "\n",
        "A_x_10 = (1 - beta_x * 10) * alpha_x / sigma_x**2 * (1 - np.exp(-beta_x * 10)) + np.exp(-beta_x * 10)\n",
        "A_y_10 = (1 - beta_y * 10) * alpha_y / sigma_y**2 * (1 - np.exp(-beta_y * 10)) + np.exp(-beta_y * 10)\n",
        "B_x_10 = (1 - np.exp(-beta_x * 10)) / beta_x\n",
        "B_y_10 = (1 - np.exp(-beta_y * 10)) / beta_y\n",
        "\n",
        "\n",
        "X1 = 0.0\n",
        "X1 = (r_10 * A_y_025 / 0.25 - r_0_25 * A_y_10 / 10 + (B_x_10 / 10 - B_x_025 / 0.25) * X1) / (B_y_025 / 0.25 - B_y_10 / 10 + B_x_10 / 10 - B_x_025 / 0.25)\n",
        "Y1 = 0.0\n",
        "Y1 = (r_0_25 * A_x_10 / 10 - r_10 * A_x_025 / 0.25 + (B_y_025 / 0.25 - B_y_10 / 10) * Y1) / (B_y_025 / 0.25 - B_y_10 / 10 + B_x_10 / 10 - B_x_025 / 0.25)\n",
        "\n"
      ],
      "metadata": {
        "id": "BjBSTNuz6sg2"
      },
      "execution_count": 15,
      "outputs": []
    },
    {
      "cell_type": "code",
      "source": [
        "#Define the spot rate variables for each maturity in week one:\n",
        "r_2 = df.loc[0, 't=2'] / 100\n",
        "r_3 = df.loc[0, 't=3'] / 100\n",
        "r_5 = df.loc[0, 't=5'] / 100\n",
        "r_7 = df.loc[0, 't=7'] / 100"
      ],
      "metadata": {
        "id": "F9tlRWB7JLHR"
      },
      "execution_count": 20,
      "outputs": []
    },
    {
      "cell_type": "code",
      "source": [
        "#Solve for the parameters of the N2 model using the same approach as in the previous steps\n",
        "A_x_2 = (1 - beta_x * 2) * alpha_x / sigma_x**2 * (1 - np.exp(-beta_x * 2)) + np.exp(-beta_x * 2)\n",
        "A_y_2 = (1 - beta_y * 2) * alpha_y / sigma_y**2 * (1 - np.exp(-beta_y * 2)) + np.exp(-beta_y * 2)\n",
        "B_x_2 = (1 - np.exp(-beta_x * 2)) / beta_x\n",
        "B_y_2 = (1 - np.exp(-beta_y * 2)) / beta_y\n",
        "\n",
        "A_x_3 = (1 - beta_x * 3) * alpha_x / sigma_x**2 * (1 - np.exp(-beta_x * 3)) + np.exp(-beta_x * 3)\n",
        "A_y_3 = (1 - beta_y * 3) * alpha_y / sigma_y**2 * (1 - np.exp(-beta_y * 3)) + np.exp(-beta_y * 3)\n",
        "B_x_3 = (1 - np.exp(-beta_x * 3)) / beta_x\n",
        "B_y_3 = (1 - np.exp(-beta_y * 3)) / beta_y\n",
        "\n",
        "A_x_5 = (1 - beta_x * 5) * alpha_x / sigma_x**2 * (1 - np.exp(-beta_x * 5)) + np.exp(-beta_x * 5)\n",
        "A_y_5 = (1 - beta_y * 5) * alpha_y / sigma_y**2 * (1 - np.exp(-beta_y * 5)) + np.exp(-beta_y * 5)\n",
        "B_x_5 = (1 - np.exp(-beta_x * 5)) / beta_x\n",
        "B_y_5 = (1 - np.exp(-beta_y * 5)) / beta_y\n",
        "\n",
        "A_x_7 = (1 - beta_x * 7) * alpha_x / sigma_x**2 * (1 - np.exp(-beta_x * 7)) + np.exp(-beta_x * 7)\n",
        "A_y_7 = (1 - beta_y * 7) * alpha_y / sigma_y**2 * (1 - np.exp(-beta_y * 7)) + np.exp(-beta_y * 7)\n",
        "B_x_7 = (1 - np.exp(-beta_x * 7)) / beta_x\n",
        "B_y_7 = (1 - np.exp(-beta_y * 7)) / beta_y"
      ],
      "metadata": {
        "id": "LwdbGLvvJLPO"
      },
      "execution_count": 22,
      "outputs": []
    },
    {
      "cell_type": "code",
      "source": [
        "#Solve for the model values of the four spot rates using the N2 model equations\n",
        "r_2_model = A_y_025 / 0.25 * X1 + B_x_025 / 0.25 * (Y1 - X1) + B_y_025 / 0.25 * (r_2 * A_x_025 / beta_x + (1 - np.exp(-beta_x * 2)) / beta_x * (Y1 - X1))\n",
        "r_3_model = A_y_025 / 0.25 * X1 + B_x_025 / 0.25 * (Y1 - X1) + B_y_025 / 0.25 * (r_3 * A_x_025 / beta_x + (1 - np.exp(-beta_x * 3)) / beta_x * (Y1 - X1))\n",
        "r_5_model = A_y_025 / 0.25 * X1 + B_x_025 / 0.25 * (Y1 - X1) + B_y_025 / 0.25 * (r_5 * A_x_025 / beta_x + (1 - np.exp(-beta_x * 5)) / beta_x * (Y1 - X1))\n",
        "r_7_model = A_y_025 / 0.25 * X1 + B_x_025 / 0.25 * (Y1 - X1) + B_y_025 / 0.25 * (r_7 * A_x_025 / beta_x + (1 - np.exp(-beta_x * 4)) / beta_x * (Y1 - X1))\n",
        "r_10_model = A_y_025 / 0.25 * X1 + B_x_025 / 0.25 * (Y1 - X1) + B_y_025 / 0.25 * (r_10 * A_x_025 / beta_x + (1 - np.exp(-beta_x * 10)) / beta_x * (Y1 - X1))\n",
        "# Compute squared difference between actual and model implied spot rates\n",
        "diff_2 = (r_2 - r_2_model)**2\n",
        "diff_3 = (r_3 - r_3_model)**2\n",
        "diff_5 = (r_5 - r_5_model)**2\n",
        "diff_7 = (r_7 - r_7_model)**2\n"
      ],
      "metadata": {
        "id": "eukT0RPyJZHs"
      },
      "execution_count": 27,
      "outputs": []
    },
    {
      "cell_type": "code",
      "source": [
        "# write a loop to repeat this process for all 650 weeks in the sample"
      ],
      "metadata": {
        "id": "AVdQacyLQh30"
      },
      "execution_count": 28,
      "outputs": []
    },
    {
      "cell_type": "code",
      "source": [
        "# Sum the 650 × 4 squared differences."
      ],
      "metadata": {
        "id": "flsXPFxAQiAg"
      },
      "execution_count": 29,
      "outputs": []
    },
    {
      "cell_type": "code",
      "source": [
        "#return to step A and try a different set of parameters, and repeat the entire process. \n",
        "#Iterate until you find a set of parameters that results in the lowest score."
      ],
      "metadata": {
        "id": "hK5kuTK5QiDT"
      },
      "execution_count": 30,
      "outputs": []
    },
    {
      "cell_type": "code",
      "source": [
        "#graph the values of Xt and Yt and check how well their sample moments (means, standard deviations) match those implied by the (risk neutral) parameter estimates."
      ],
      "metadata": {
        "id": "wo-AZYiMQiGY"
      },
      "execution_count": 31,
      "outputs": []
    },
    {
      "cell_type": "code",
      "source": [
        "#Analyze the time series properties of deviations between the spot rates and the fitted model."
      ],
      "metadata": {
        "id": "BKCLRt_bRHKT"
      },
      "execution_count": 32,
      "outputs": []
    }
  ]
}